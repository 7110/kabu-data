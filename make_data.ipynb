{
 "cells": [
  {
   "cell_type": "code",
   "execution_count": 1,
   "metadata": {},
   "outputs": [],
   "source": [
    "import json\n",
    "import pandas as pd"
   ]
  },
  {
   "cell_type": "code",
   "execution_count": 2,
   "metadata": {},
   "outputs": [],
   "source": [
    "NAME = \"201902\"\n",
    "\n",
    "\n",
    "COLUMNS = [\n",
    "    [\"コード\", \"銘柄名\", \"市場・商品区分\", \"33業種コード\", \"33業種区分\", \"17業種コード\", \"17業種区分\", \"規模区分\"],\n",
    "    [\"code\", \"name\", \"market\", \"code33\", \"industry33\", \"code17\", \"industry17\", \"scale\"],\n",
    "]"
   ]
  },
  {
   "cell_type": "code",
   "execution_count": 3,
   "metadata": {},
   "outputs": [],
   "source": [
    "df = pd.read_excel(\"./src/{}.xls\".format(NAME))\n",
    "\n",
    "df = df.filter(items=COLUMNS[0])\n",
    "df.columns = COLUMNS[1]"
   ]
  },
  {
   "cell_type": "code",
   "execution_count": 4,
   "metadata": {},
   "outputs": [
    {
     "data": {
      "text/html": [
       "<div>\n",
       "<style scoped>\n",
       "    .dataframe tbody tr th:only-of-type {\n",
       "        vertical-align: middle;\n",
       "    }\n",
       "\n",
       "    .dataframe tbody tr th {\n",
       "        vertical-align: top;\n",
       "    }\n",
       "\n",
       "    .dataframe thead th {\n",
       "        text-align: right;\n",
       "    }\n",
       "</style>\n",
       "<table border=\"1\" class=\"dataframe\">\n",
       "  <thead>\n",
       "    <tr style=\"text-align: right;\">\n",
       "      <th></th>\n",
       "      <th>code</th>\n",
       "      <th>name</th>\n",
       "      <th>market</th>\n",
       "      <th>code33</th>\n",
       "      <th>industry33</th>\n",
       "      <th>code17</th>\n",
       "      <th>industry17</th>\n",
       "      <th>scale</th>\n",
       "    </tr>\n",
       "  </thead>\n",
       "  <tbody>\n",
       "    <tr>\n",
       "      <th>0</th>\n",
       "      <td>1301</td>\n",
       "      <td>極洋</td>\n",
       "      <td>市場第一部（内国株）</td>\n",
       "      <td>50</td>\n",
       "      <td>水産・農林業</td>\n",
       "      <td>1</td>\n",
       "      <td>食品</td>\n",
       "      <td>TOPIX Small 2</td>\n",
       "    </tr>\n",
       "    <tr>\n",
       "      <th>1</th>\n",
       "      <td>1305</td>\n",
       "      <td>ダイワ上場投信－トピックス</td>\n",
       "      <td>ETF・ETN</td>\n",
       "      <td>-</td>\n",
       "      <td>-</td>\n",
       "      <td>-</td>\n",
       "      <td>-</td>\n",
       "      <td>-</td>\n",
       "    </tr>\n",
       "    <tr>\n",
       "      <th>2</th>\n",
       "      <td>1306</td>\n",
       "      <td>ＴＯＰＩＸ連動型上場投資信託</td>\n",
       "      <td>ETF・ETN</td>\n",
       "      <td>-</td>\n",
       "      <td>-</td>\n",
       "      <td>-</td>\n",
       "      <td>-</td>\n",
       "      <td>-</td>\n",
       "    </tr>\n",
       "    <tr>\n",
       "      <th>3</th>\n",
       "      <td>1308</td>\n",
       "      <td>上場インデックスファンドＴＯＰＩＸ</td>\n",
       "      <td>ETF・ETN</td>\n",
       "      <td>-</td>\n",
       "      <td>-</td>\n",
       "      <td>-</td>\n",
       "      <td>-</td>\n",
       "      <td>-</td>\n",
       "    </tr>\n",
       "    <tr>\n",
       "      <th>4</th>\n",
       "      <td>1309</td>\n",
       "      <td>上海株式指数・上証５０連動型上場投資信託</td>\n",
       "      <td>ETF・ETN</td>\n",
       "      <td>-</td>\n",
       "      <td>-</td>\n",
       "      <td>-</td>\n",
       "      <td>-</td>\n",
       "      <td>-</td>\n",
       "    </tr>\n",
       "  </tbody>\n",
       "</table>\n",
       "</div>"
      ],
      "text/plain": [
       "   code                  name      market code33 industry33 code17 industry17  \\\n",
       "0  1301                    極洋  市場第一部（内国株）     50     水産・農林業      1        食品    \n",
       "1  1305         ダイワ上場投信－トピックス     ETF・ETN      -          -      -          -   \n",
       "2  1306        ＴＯＰＩＸ連動型上場投資信託     ETF・ETN      -          -      -          -   \n",
       "3  1308     上場インデックスファンドＴＯＰＩＸ     ETF・ETN      -          -      -          -   \n",
       "4  1309  上海株式指数・上証５０連動型上場投資信託     ETF・ETN      -          -      -          -   \n",
       "\n",
       "           scale  \n",
       "0  TOPIX Small 2  \n",
       "1              -  \n",
       "2              -  \n",
       "3              -  \n",
       "4              -  "
      ]
     },
     "execution_count": 4,
     "metadata": {},
     "output_type": "execute_result"
    }
   ],
   "source": [
    "df.head(5)"
   ]
  },
  {
   "cell_type": "code",
   "execution_count": null,
   "metadata": {},
   "outputs": [],
   "source": []
  },
  {
   "cell_type": "code",
   "execution_count": 5,
   "metadata": {
    "scrolled": true
   },
   "outputs": [],
   "source": [
    "markets = {}\n",
    "for i, market in enumerate(list(set(df[\"market\"]))):\n",
    "    markets[i] = market\n",
    "re_markets = {v: k for k, v in markets.items()}\n",
    "\n",
    "\n",
    "df_33 = df.filter(items=[\"code33\", \"industry33\"])\n",
    "combination_33 = set([\"\\t\".join([str(item) for item in row]) for row in df_33.values])\n",
    "\n",
    "industry33 = {}\n",
    "for items in combination_33:\n",
    "    k, v = items.split(\"\\t\")\n",
    "    if (k != \"-\"):\n",
    "        industry33[k] = v\n",
    "\n",
    "\n",
    "df_17 = df.filter(items=[\"code17\", \"industry17\"])\n",
    "combination_17 = set([\"\\t\".join([str(item) for item in row]) for row in df_17.values])\n",
    "\n",
    "industry17 = {}\n",
    "for items in combination_17:\n",
    "    k, v = items.split(\"\\t\")\n",
    "    if (k != \"-\"):\n",
    "        industry17[k] = v"
   ]
  },
  {
   "cell_type": "code",
   "execution_count": 6,
   "metadata": {},
   "outputs": [],
   "source": [
    "manual = {\n",
    "    \"markets\": markets,\n",
    "    \"industry33\": industry33,\n",
    "    \"industry17\": industry17,\n",
    "}"
   ]
  },
  {
   "cell_type": "code",
   "execution_count": null,
   "metadata": {},
   "outputs": [],
   "source": []
  },
  {
   "cell_type": "code",
   "execution_count": 7,
   "metadata": {},
   "outputs": [],
   "source": [
    "results = []\n",
    "for _, row in df.iterrows():\n",
    "    res = {}\n",
    "    res[\"c\"] = row[\"code\"]\n",
    "    res[\"n\"] = row[\"name\"]\n",
    "    res[\"m\"] = re_markets[row[\"market\"]]\n",
    "    res[\"i33\"] = row[\"code33\"] if row[\"code33\"] != \"-\" else \"\"\n",
    "    res[\"i17\"] = row[\"code17\"] if row[\"code17\"] != \"-\" else \"\"\n",
    "    results += [res]"
   ]
  },
  {
   "cell_type": "code",
   "execution_count": null,
   "metadata": {},
   "outputs": [],
   "source": []
  },
  {
   "cell_type": "code",
   "execution_count": 8,
   "metadata": {},
   "outputs": [],
   "source": [
    "with open(\"./dist/manual.json\", \"w\") as f:\n",
    "    json.dump(manual, f)\n",
    "\n",
    "with open(\"./dist/main.json\", \"w\") as f:\n",
    "    json.dump(results, f)"
   ]
  },
  {
   "cell_type": "code",
   "execution_count": null,
   "metadata": {},
   "outputs": [],
   "source": []
  }
 ],
 "metadata": {
  "kernelspec": {
   "display_name": "Python 3",
   "language": "python",
   "name": "python3"
  },
  "language_info": {
   "codemirror_mode": {
    "name": "ipython",
    "version": 3
   },
   "file_extension": ".py",
   "mimetype": "text/x-python",
   "name": "python",
   "nbconvert_exporter": "python",
   "pygments_lexer": "ipython3",
   "version": "3.6.2"
  }
 },
 "nbformat": 4,
 "nbformat_minor": 2
}
